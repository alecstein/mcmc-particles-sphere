{
 "cells": [
  {
   "cell_type": "code",
   "execution_count": 131,
   "metadata": {
    "collapsed": false
   },
   "outputs": [],
   "source": [
    "#!/anaconda/bin/python\n",
    "import numpy as np\n",
    "from matplotlib import pyplot as plt\n",
    "%matplotlib inline \n",
    "#%matplotlib\n",
    "from tqdm import tqdm_notebook\n",
    "from datetime import datetime\n",
    "from scipy.special import eval_legendre\n",
    "from numpy.linalg import inv\n",
    "from mpl_toolkits.mplot3d import Axes3D\n",
    "from scipy.special import eval_legendre"
   ]
  },
  {
   "cell_type": "code",
   "execution_count": 132,
   "metadata": {
    "collapsed": true
   },
   "outputs": [],
   "source": [
    "R = 1\n",
    "n_particles = 100\n",
    "beta = 10**(-7)\n",
    "b = 1\n",
    "a = 1"
   ]
  },
  {
   "cell_type": "code",
   "execution_count": 133,
   "metadata": {
    "collapsed": false
   },
   "outputs": [],
   "source": [
    "def init_state(n_particles):\n",
    "    '''\n",
    "    Place particles randomly on a spherical surface.\n",
    "    '''\n",
    "    \n",
    "    state = np.zeros((n_particles, 3))\n",
    "    \n",
    "    for i in range(0, n_particles):\n",
    "        \n",
    "        z_rand = R*(2*np.random.random()-1)\n",
    "        phi_rand = 2*np.pi*np.random.random()\n",
    "        x_rand = np.sqrt(R**2 - z_rand**2)*np.cos(phi_rand)\n",
    "        y_rand = np.sqrt(R**2 - z_rand**2)*np.sin(phi_rand)\n",
    "        \n",
    "        state[i][0], state[i][1], state[i][2] = x_rand, y_rand, z_rand\n",
    "    \n",
    "    return state\n",
    "\n",
    "def get_dists(state):\n",
    "    '''Returns an array of all distances between all pairs of particles.'''\n",
    "    \n",
    "    return np.sqrt(np.sum(((state[:, np.newaxis] - state)**2),axis=2))[np.triu_indices(n_particles,1)]\n",
    "\n",
    "def get_cosines(state):\n",
    "    '''Returns an array of all cosines between all pairs of particles.'''\n",
    "    \n",
    "    return np.sum((state[:, np.newaxis]*state),axis=2)[np.triu_indices(n_particles,1)]/(R**2)\n",
    "    \n",
    "def E(dists):\n",
    "    '''\n",
    "    Takes an array of distances between pairs of particles\n",
    "    and returns the total (potential) energy of the config.\n",
    "    '''\n",
    "    \n",
    "    return np.sum(b*((a/dists)**12 - 2*(a/dists)**6))\n",
    "\n",
    "def step_fwd(vec, sigma):\n",
    "    '''Push a single particle around uniformly.'''\n",
    "    \n",
    "    dvec = np.array([np.random.normal(0,sigma) for i in range(len(vec))])\n",
    "    vec  = vec + dvec\n",
    "    \n",
    "    vec_normed = R*vec/np.sqrt(vec.dot(vec))\n",
    "    \n",
    "    return vec_normed\n",
    "\n",
    "def metropolis(n_iters, n_bins, state):\n",
    "    \n",
    "    print('Running MCMC.')\n",
    "    print('Beta = ' + str(beta) + '.')\n",
    "    print('Number of particles = ' + str(n_particles) +'.')\n",
    "    \n",
    "    sigma = .01\n",
    "    bin_edges = np.linspace(-1, 1, n_bins + 1) \n",
    "    hist = np.zeros(n_bins) # array of N_particle tuples of zeros\n",
    "    \n",
    "    acceptance_tally = 0\n",
    "    running_acceptance_tally = 0\n",
    "    adjust_sigma_steps = 100\n",
    "\n",
    "    for i in tqdm_notebook(range(n_iters)):\n",
    "    \n",
    "        particle_no = np.random.randint(0,n_particles)\n",
    "        \n",
    "        candidate_state = np.copy(state)  \n",
    "        \n",
    "        candidate_state[particle_no] = step_fwd(candidate_state[particle_no], sigma)\n",
    "\n",
    "        dists_state =  get_dists(state)\n",
    "        dists_candidate  =  get_dists(candidate_state)\n",
    "    \n",
    "        # if dE < 0, move decreases energy (more likely)\n",
    "        # if dE > 0, move increases energy (less likely)\n",
    "        # if dE = 0, move doesn't do anything to energy (equally likely)\n",
    "        \n",
    "        dE = E(dists_candidate)-E(dists_state)\n",
    "\n",
    "        if dE <= 0:\n",
    "            state = candidate_state\n",
    "            acceptance_tally += 1\n",
    "            running_acceptance_tally +=1\n",
    "            \n",
    "        else:\n",
    "            q = np.float64(np.exp(-beta*dE))\n",
    "            \n",
    "            # 0 <= q < 1 since dE > 0.\n",
    "            # generate random number between zero and 1\n",
    "            p = np.random.random()\n",
    "\n",
    "            if p < q:\n",
    "                state = candidate_state\n",
    "                acceptance_tally += 1\n",
    "                running_acceptance_tally +=1\n",
    "        \n",
    "        cosines = get_cosines(state)\n",
    "        hist = hist + np.histogram(cosines, bin_edges)[0]\n",
    "            \n",
    "        # this decreases sigma if the acceptance rate is too low\n",
    "        # or increases if it's too high\n",
    "        if (i % adjust_sigma_steps == 0) and (i != 0):\n",
    "            mean_acceptance = running_acceptance_tally/adjust_sigma_steps\n",
    "            if mean_acceptance < .23:\n",
    "                sigma = sigma * .9\n",
    "            if mean_acceptance > .23:\n",
    "                sigma = sigma * 1/.9\n",
    "            running_acceptance_tally = 0\n",
    "            \n",
    "        #    acc_rate = acc/(n_iters)*100\n",
    "        \n",
    "    acceptance_rate = (acceptance_tally/n_iters)*100\n",
    "            \n",
    "    print('Completed ', n_iters, ' iterations.')\n",
    "    print('The acceptance rate for this run was: ', acceptance_rate, ' %.')\n",
    "    \n",
    "    normalized_hist = hist*(bin_edges[1]-bin_edges[0])*(n_particles-1)\n",
    "    \n",
    "    return normalized_hist, bin_edges, acceptance_rate, state"
   ]
  },
  {
   "cell_type": "code",
   "execution_count": 106,
   "metadata": {
    "collapsed": true
   },
   "outputs": [],
   "source": [
    "n_particles = 100\n",
    "state = init_state(n_particles)"
   ]
  },
  {
   "cell_type": "code",
   "execution_count": null,
   "metadata": {
    "collapsed": false,
    "scrolled": true
   },
   "outputs": [
    {
     "name": "stdout",
     "output_type": "stream",
     "text": [
      "Running MCMC.\n",
      "Beta = 1e-07.\n",
      "Number of particles = 100.\n"
     ]
    }
   ],
   "source": [
    "n_iters = 10**5\n",
    "n_bins = 1000\n",
    "hist, bin_edges, acc, state = metropolis(n_iters, n_bins, state)"
   ]
  },
  {
   "cell_type": "code",
   "execution_count": null,
   "metadata": {
    "collapsed": false
   },
   "outputs": [],
   "source": [
    "plt.figure(figsize=(8,6), dpi = 80)\n",
    "\n",
    "plt.bar(bin_edges[:-1], hist, width = np.diff(bin_edges), edgecolor = 'none', color = 'red')\n",
    "\n",
    "plt.title('$\\\\beta =${0}'.format(beta)  + ', $a = $' \\\n",
    "          + str(a) + ', $b =$' +str(b) + ', $R=$' \\\n",
    "          + str(R) + ', ' + '$N$ =' + str(n_particles) \\\n",
    "          + ', ' + str(n_iters) + ' samples.')\n",
    "\n",
    "plt.ylabel('$\\\\rho g(\\cos\\\\theta)$', fontsize = 18)\n",
    "plt.xlabel('$\\cos\\\\theta$', fontsize = 18)\n",
    "plt.savefig('rg_x_mcmc_beta_1e-7.png')"
   ]
  },
  {
   "cell_type": "code",
   "execution_count": null,
   "metadata": {
    "collapsed": false
   },
   "outputs": [],
   "source": [
    "'''\n",
    "The code below is to help visualize the state.\n",
    "'''\n",
    "fig = plt.figure(figsize = (10,10))\n",
    "ax = fig.gca(projection='3d')\n",
    "\n",
    "for v in state:\n",
    "    ax.scatter(v[0], v[1], v[2], zdir = 'z', c = 'r', s = 100)\n",
    "\n",
    "ax.scatter(0,0,1, zdir = 'z', c = 'y', s = 400)\n",
    "\n",
    "plt.title('Visualizing the distribution of particles in a sample state')\n",
    "ax.set_xlabel('$x$', fontsize=22)\n",
    "ax.set_ylabel('$y$', fontsize=22)\n",
    "ax.set_zlabel('$z$', fontsize=22)\n",
    "ax.set_xlim3d(-1, 1)\n",
    "ax.set_ylim3d(-1, 1)\n",
    "ax.set_zlim3d(-1, 1)\n",
    "\n",
    "plt.show()\n",
    "plt.savefig('rg_x_mcmc_beta_1e-7_visual.png')"
   ]
  },
  {
   "cell_type": "code",
   "execution_count": null,
   "metadata": {
    "collapsed": false
   },
   "outputs": [],
   "source": [
    "L_max = 50\n",
    "\n",
    "def get_legendre_cfs(f, L, n_bins):\n",
    "    \n",
    "    dx = 2 / n_bins\n",
    "    xs = np.linspace(-1, 1, n_bins)\n",
    "\n",
    "    legendre_L = eval_legendre(L, xs)\n",
    "    \n",
    "    return ((2*L+1)/2)*dx*np.dot(f, legendre_L)\n",
    "\n",
    "Ls = [L for L in range(L_max)]\n",
    "\n",
    "rg_L = [get_legendre_cfs(hist, L, n_bins) for L in range(L_max)]"
   ]
  },
  {
   "cell_type": "code",
   "execution_count": null,
   "metadata": {
    "collapsed": false
   },
   "outputs": [],
   "source": [
    "plt.figure(figsize=(8,6), dpi = 80)\n",
    "plt.scatter(Ls, rg_L, s = 10)\n",
    "plt.xlim(0,L_max)\n",
    "plt.ylabel('$g_\\ell$', fontsize = 22)\n",
    "plt.xlabel('$\\ell$', fontsize = 22)"
   ]
  },
  {
   "cell_type": "code",
   "execution_count": null,
   "metadata": {
    "collapsed": true
   },
   "outputs": [],
   "source": [
    "def rg_x(x, L_max):\n",
    "    '''Calculates \\rho g(x) as an expansion\n",
    "    in Legendre polynomials up to L_max'''\n",
    "    \n",
    "    legendre_L_x = [eval_legendre(L,x) for L in range(L_max)]\n",
    "    \n",
    "    return np.dot(rg_L, legendre_L_x)"
   ]
  },
  {
   "cell_type": "code",
   "execution_count": null,
   "metadata": {
    "collapsed": false
   },
   "outputs": [],
   "source": [
    "plt.figure(figsize=(10,6), dpi = 80)\n",
    "\n",
    "plt.ylim(0,np.max(hist)*1.5)\n",
    "\n",
    "xs = np.linspace(-1,1,100)\n",
    "plt.plot(xs, rg_x(xs, L_max), linewidth = 4)\n",
    "\n",
    "plt.plot(bin_edges[:-1], hist)\n",
    "\n",
    "plt.title('Testing the fit of the expanded function', fontsize = 22)\n",
    "\n",
    "plt.savefig('testing_fit_beta_1e-7')"
   ]
  },
  {
   "cell_type": "code",
   "execution_count": null,
   "metadata": {
    "collapsed": false
   },
   "outputs": [],
   "source": [
    "a_L = [(1/n_particles)*((2*L+1/(4*np.pi)) + rg_L[L])**(-1) for L in range(L_max)]"
   ]
  },
  {
   "cell_type": "code",
   "execution_count": null,
   "metadata": {
    "collapsed": false
   },
   "outputs": [],
   "source": [
    "plt.figure(figsize=(10,6), dpi = 80)\n",
    "\n",
    "plt.scatter(Ls, a_L)\n",
    "plt.ylim(np.min(a_L)*1.3,np.max(a_L)*1.3)\n",
    "plt.axhline(0)\n",
    "plt.title('$\\\\beta = %s$' % beta, fontsize = 22)\n",
    "plt.ylabel('$A_\\ell$', fontsize = 22)\n",
    "plt.xlabel('$\\ell$', fontsize = 22)\n",
    "plt.xlim(0,L_max)\n",
    "\n",
    "plt.savefig('a_L_1e-7')"
   ]
  },
  {
   "cell_type": "markdown",
   "metadata": {},
   "source": []
  }
 ],
 "metadata": {
  "anaconda-cloud": {},
  "kernelspec": {
   "display_name": "Python [conda env:anaconda]",
   "language": "python",
   "name": "conda-env-anaconda-py"
  },
  "language_info": {
   "codemirror_mode": {
    "name": "ipython",
    "version": 3
   },
   "file_extension": ".py",
   "mimetype": "text/x-python",
   "name": "python",
   "nbconvert_exporter": "python",
   "pygments_lexer": "ipython3",
   "version": "3.5.2"
  },
  "widgets": {
   "state": {
    "0d30b41984f3473e9eeef0ab4cd824bd": {
     "views": [
      {
       "cell_index": 4
      }
     ]
    }
   },
   "version": "1.2.0"
  }
 },
 "nbformat": 4,
 "nbformat_minor": 1
}
