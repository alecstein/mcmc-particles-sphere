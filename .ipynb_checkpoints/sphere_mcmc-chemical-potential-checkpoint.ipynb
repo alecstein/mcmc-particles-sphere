{
 "cells": [
  {
   "cell_type": "code",
   "execution_count": 48,
   "metadata": {
    "collapsed": false
   },
   "outputs": [],
   "source": [
    "#!/anaconda/bin/python\n",
    "import numpy as np\n",
    "from matplotlib import pyplot as plt\n",
    "%matplotlib inline \n",
    "from tqdm import tqdm_notebook\n",
    "from scipy.special import eval_legendre\n",
    "from mpl_toolkits.mplot3d import Axes3D\n",
    "from scipy.special import eval_legendre"
   ]
  },
  {
   "cell_type": "code",
   "execution_count": 124,
   "metadata": {
    "collapsed": true
   },
   "outputs": [],
   "source": [
    "R = 3\n",
    "n_particles = 100\n",
    "beta = 10**(1)\n",
    "b = 1\n",
    "a = 1"
   ]
  },
  {
   "cell_type": "code",
   "execution_count": 125,
   "metadata": {
    "collapsed": false
   },
   "outputs": [],
   "source": [
    "def init_state(n_particles):\n",
    "    '''Place particles randomly on a spherical surface.'''\n",
    "    \n",
    "    state = np.zeros((n_particles, 3))\n",
    "    \n",
    "    for i in range(0, n_particles):    \n",
    "        z_rand = R*(2*np.random.random()-1)\n",
    "        phi_rand = 2*np.pi*np.random.random()\n",
    "        x_rand = np.sqrt(R**2 - z_rand**2)*np.cos(phi_rand)\n",
    "        y_rand = np.sqrt(R**2 - z_rand**2)*np.sin(phi_rand)\n",
    "        state[i][0], state[i][1], state[i][2] = x_rand, y_rand, z_rand\n",
    "    \n",
    "    return state\n",
    "\n",
    "def get_dists(state):\n",
    "    '''Returns an array of all distances between all pairs of particles.'''\n",
    "    \n",
    "    return np.sqrt(np.sum(((state[:, np.newaxis] - state)**2),axis=2))[np.triu_indices(n_particles,1)]\n",
    "\n",
    "def get_cosines(state):\n",
    "    '''Returns an array of all cosines between all pairs of particles.'''\n",
    "    \n",
    "    return np.sum((state[:, np.newaxis]*state),axis=2)[np.triu_indices(n_particles,1)]/(R**2)\n",
    "    \n",
    "def E(dists):\n",
    "    '''Takes an array of distances between pairs of particles\n",
    "    and returns the total (potential) energy of the config.'''\n",
    "    \n",
    "    return np.sum(b*((a/dists)**12 - 2*(a/dists)**6))\n",
    "\n",
    "def step_fwd(vec, sigma):\n",
    "    '''Push a single particle around uniformly.'''\n",
    "    \n",
    "    dvec = np.array([np.random.normal(0,sigma) for i in range(len(vec))])\n",
    "    vec  = vec + dvec\n",
    "    \n",
    "    vec_normed = R*vec/np.sqrt(vec.dot(vec))\n",
    "    \n",
    "    return vec_normed\n",
    "\n",
    "def metropolis(n_iters, n_bins, state):\n",
    "    \n",
    "    bin_edges = np.linspace(-1, 1, n_bins + 1) \n",
    "    hist = np.zeros(n_bins)\n",
    "    \n",
    "    sigma = .01    \n",
    "    acceptance_tally = 0\n",
    "    running_acceptance_tally = 0\n",
    "    adjust_sigma_steps = 100\n",
    "\n",
    "    for i in tqdm_notebook(range(n_iters)):    \n",
    "        particle_no = np.random.randint(0,n_particles)\n",
    "        \n",
    "        candidate_state = np.copy(state)  \n",
    "        candidate_state[particle_no] = step_fwd(candidate_state[particle_no], sigma)\n",
    "\n",
    "        dists_state =  get_dists(state)\n",
    "        dists_candidate  =  get_dists(candidate_state)\n",
    "\n",
    "        dE = E(dists_candidate)-E(dists_state)\n",
    "\n",
    "        if dE <= 0:\n",
    "            state = candidate_state\n",
    "            acceptance_tally += 1\n",
    "            running_acceptance_tally +=1\n",
    "            \n",
    "        else:\n",
    "            q = np.float64(np.exp(-beta*dE))\n",
    "            p = np.random.random()\n",
    "\n",
    "            if p < q:\n",
    "                state = candidate_state\n",
    "                acceptance_tally += 1\n",
    "                running_acceptance_tally +=1\n",
    "        \n",
    "        cosines = get_cosines(state)\n",
    "        hist = hist + np.histogram(cosines, bin_edges)[0]\n",
    "\n",
    "        if (i % adjust_sigma_steps == 0) and (i != 0):\n",
    "            mean_acceptance = running_acceptance_tally/adjust_sigma_steps\n",
    "            if mean_acceptance < .23:\n",
    "                sigma = sigma * .9\n",
    "            if mean_acceptance > .23:\n",
    "                sigma = sigma * 1/.9\n",
    "            running_acceptance_tally = 0\n",
    "        \n",
    "    acceptance_rate = (acceptance_tally/n_iters)*100\n",
    "            \n",
    "    print('Completed ', n_iters, ' iterations.')\n",
    "    print('The acceptance rate for this run was: ', acceptance_rate, ' %.')\n",
    "    \n",
    "    normalized_hist = hist*(n_particles-1)/(np.sum(hist)*(bin_edges[1]-bin_edges[0]))\n",
    "    \n",
    "    return normalized_hist, bin_edges, acceptance_rate, state\n",
    "\n",
    "def fig_saveas(title):\n",
    "    '''Useful shortcut for saving plot figures.'''\n",
    "    \n",
    "    file_prefix = str(title) + '_'\n",
    "    file_suffix = 'beta=%s_a=%s_b=%s_R=%s_n_particles=%s_n_iters=%s' %(beta, a, b, R, n_particles, n_iters)\n",
    "    filename = file_prefix + file_suffix + '.png'\n",
    "    plt.savefig(filename)"
   ]
  },
  {
   "cell_type": "code",
   "execution_count": 126,
   "metadata": {
    "collapsed": false
   },
   "outputs": [],
   "source": [
    "n_particles = 100\n",
    "state = init_state(n_particles)"
   ]
  },
  {
   "cell_type": "code",
   "execution_count": 127,
   "metadata": {
    "collapsed": false,
    "scrolled": true
   },
   "outputs": [
    {
     "name": "stdout",
     "output_type": "stream",
     "text": [
      "\n",
      "Completed  200000  iterations.\n",
      "The acceptance rate for this run was:  23.430999999999997  %.\n"
     ]
    }
   ],
   "source": [
    "n_iters = 2*10**5\n",
    "n_bins = 1000\n",
    "hist, bin_edges, acc, state = metropolis(n_iters, n_bins, state)"
   ]
  },
  {
   "cell_type": "markdown",
   "metadata": {},
   "source": [
    "### Plotting $\\rho g(x)$"
   ]
  },
  {
   "cell_type": "code",
   "execution_count": 128,
   "metadata": {
    "collapsed": false
   },
   "outputs": [],
   "source": [
    "plt.figure(figsize=(10,6), dpi = 80)\n",
    "\n",
    "plt.bar(bin_edges[:-1], hist, width = np.diff(bin_edges), edgecolor = 'none', color = 'red')\n",
    "\n",
    "plt.title('$\\\\beta =${0}'.format(beta)  + ', $a = $' \\\n",
    "          + str(a) + ', $b =$' +str(b) + ', $R=$' \\\n",
    "          + str(R) + ', ' + '$N$ =' + str(n_particles) \\\n",
    "          + ', ' + str(n_iters) + ' samples.')\n",
    "\n",
    "plt.ylabel('$\\\\rho g(\\cos\\\\theta)$', fontsize = 18)\n",
    "plt.xlabel('$\\cos\\\\theta$', fontsize = 18)\n",
    "\n",
    "fig_saveas('rg_x')"
   ]
  },
  {
   "cell_type": "code",
   "execution_count": 129,
   "metadata": {
    "collapsed": false
   },
   "outputs": [],
   "source": [
    "L_max = 50\n",
    "\n",
    "def get_legendre_cfs(f, L, n_bins):\n",
    "    \n",
    "    dx = 2 / n_bins\n",
    "    xs = np.linspace(-1, 1, n_bins)\n",
    "\n",
    "    legendre_L = eval_legendre(L, xs)\n",
    "    \n",
    "    return ((2*L+1)/2)*dx*np.dot(f, legendre_L)\n",
    "\n",
    "Ls = [L for L in range(L_max)]\n",
    "rg_L = [get_legendre_cfs(hist, L, n_bins) for L in range(L_max)]\n",
    "\n",
    "def rg_x(x, L_max):\n",
    "    '''Calculates \\rho g(x) as an expansion\n",
    "    in Legendre polynomials up to L_max'''\n",
    "    \n",
    "    legendre_L_x = [eval_legendre(L,x) for L in range(L_max)]\n",
    "    \n",
    "    return np.dot(rg_L, legendre_L_x)"
   ]
  },
  {
   "cell_type": "markdown",
   "metadata": {},
   "source": [
    "### Testing the expansion "
   ]
  },
  {
   "cell_type": "code",
   "execution_count": 130,
   "metadata": {
    "collapsed": false
   },
   "outputs": [],
   "source": [
    "plt.figure(figsize=(10,6), dpi = 80)\n",
    "\n",
    "xs = np.linspace(-1,1,n_bins)\n",
    "plt.plot(xs, rg_x(xs, L_max), linewidth = 1)\n",
    "plt.plot(bin_edges[:-1], hist)\n",
    "plt.ylim(0,np.max(hist)*1.3)\n",
    "\n",
    "plt.title('$L_{max}$ = %s, blue = fit, green = data' % L_max, fontsize = 16)\n",
    "\n",
    "fig_saveas('testing_expansion')"
   ]
  },
  {
   "cell_type": "code",
   "execution_count": 131,
   "metadata": {
    "collapsed": false
   },
   "outputs": [],
   "source": [
    "a_L = [(1/n_particles)*(((2*L+1)/(4*np.pi)) + rg_L[L])**(-1) for L in range(L_max)]"
   ]
  },
  {
   "cell_type": "markdown",
   "metadata": {},
   "source": [
    "### Computing $A_\\ell$ for $L \\leq L_\\text{max}$"
   ]
  },
  {
   "cell_type": "code",
   "execution_count": 132,
   "metadata": {
    "collapsed": false
   },
   "outputs": [],
   "source": [
    "q_L = a_L"
   ]
  },
  {
   "cell_type": "code",
   "execution_count": 133,
   "metadata": {
    "collapsed": false
   },
   "outputs": [],
   "source": [
    "plt.figure(figsize=(10,6), dpi = 80)\n",
    "    \n",
    "title = '$\\\\beta = %s$, Transition = %s'% (beta, np.min(a_L) <= 0)\n",
    "\n",
    "plt.scatter(Ls, q_L)\n",
    "plt.ylim(np.min(q_L)*1.3,np.max(q_L)*1.3)\n",
    "plt.axhline(0, color = 'red')\n",
    "plt.title(title, fontsize = 22)\n",
    "plt.ylabel('$A_\\ell$', fontsize = 22)\n",
    "plt.xlabel('$\\ell$', fontsize = 22)\n",
    "plt.xlim(0,L_max)\n",
    "\n",
    "fig_saveas('a_L')"
   ]
  },
  {
   "cell_type": "code",
   "execution_count": 113,
   "metadata": {
    "collapsed": false
   },
   "outputs": [],
   "source": [
    "'''\n",
    "The code below is to help visualize the state.\n",
    "'''\n",
    "\n",
    "fig = plt.figure(figsize = (10,10))\n",
    "ax = fig.gca(projection='3d')\n",
    "\n",
    "plt.title('Visualizing the distribution of particles in a sample state')\n",
    "\n",
    "r = R*.7\n",
    "theta, phi = np.linspace(0, 2 * np.pi, 1000), np.linspace(0, np.pi, 1000)\n",
    "THETA, PHI = np.meshgrid(theta, phi)\n",
    "X = r * np.sin(PHI) * np.cos(THETA)\n",
    "Y = r * np.sin(PHI) * np.sin(THETA)\n",
    "Z = r * np.cos(PHI)\n",
    "\n",
    "surf = ax.plot_surface(X, Y, Z, alpha = 1)\n",
    "\n",
    "ax.set_xlabel('$x$', fontsize=22)\n",
    "ax.set_ylabel('$y$', fontsize=22)\n",
    "ax.set_zlabel('$z$', fontsize=22)\n",
    "ax.set_xlim3d(-R, R)\n",
    "ax.set_ylim3d(-R, R)\n",
    "ax.set_zlim3d(-R, R)\n",
    "\n",
    "for v in state:\n",
    "    ax.scatter(v[0], v[1], v[2], zdir = 'z', c = 'r', s = 100)\n",
    "\n",
    "ax.scatter(0,0,R, zdir = 'z', c = 'y', s = 400)\n",
    "\n",
    "plt.show()\n",
    "\n",
    "#my_saveas('visualize')\n"
   ]
  },
  {
   "cell_type": "code",
   "execution_count": 92,
   "metadata": {
    "collapsed": true
   },
   "outputs": [],
   "source": []
  },
  {
   "cell_type": "markdown",
   "metadata": {},
   "source": []
  },
  {
   "cell_type": "code",
   "execution_count": null,
   "metadata": {
    "collapsed": true
   },
   "outputs": [],
   "source": []
  }
 ],
 "metadata": {
  "anaconda-cloud": {},
  "kernelspec": {
   "display_name": "Python [conda env:anaconda]",
   "language": "python",
   "name": "conda-env-anaconda-py"
  },
  "language_info": {
   "codemirror_mode": {
    "name": "ipython",
    "version": 3
   },
   "file_extension": ".py",
   "mimetype": "text/x-python",
   "name": "python",
   "nbconvert_exporter": "python",
   "pygments_lexer": "ipython3",
   "version": "3.5.2"
  },
  "widgets": {
   "state": {
    "78a8fd51df55468a8add6d33f445a365": {
     "views": [
      {
       "cell_index": 4
      }
     ]
    }
   },
   "version": "1.2.0"
  }
 },
 "nbformat": 4,
 "nbformat_minor": 1
}
