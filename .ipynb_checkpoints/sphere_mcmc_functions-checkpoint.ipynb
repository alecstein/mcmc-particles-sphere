{
 "cells": [
  {
   "cell_type": "code",
   "execution_count": null,
   "metadata": {
    "collapsed": true
   },
   "outputs": [],
   "source": [
    "def init_state(n_particles):\n",
    "    '''Place particles randomly on a spherical surface.'''\n",
    "    \n",
    "    state = np.zeros((n_particles, 3))\n",
    "    \n",
    "    for i in range(0, n_particles):    \n",
    "        z_rand = R*(2*np.random.random()-1)\n",
    "        phi_rand = 2*np.pi*np.random.random()\n",
    "        x_rand = np.sqrt(R**2 - z_rand**2)*np.cos(phi_rand)\n",
    "        y_rand = np.sqrt(R**2 - z_rand**2)*np.sin(phi_rand)\n",
    "        state[i][0], state[i][1], state[i][2] = x_rand, y_rand, z_rand\n",
    "    \n",
    "    return state\n",
    "\n",
    "def get_dists(state):\n",
    "    '''Returns an array of all distances between all pairs of particles.'''\n",
    "    \n",
    "    return np.sqrt(np.sum(((state[:, np.newaxis] - state)**2),axis=2))[np.triu_indices(n_particles,1)]\n",
    "\n",
    "def get_cosines(state):\n",
    "    '''Returns an array of all cosines between all pairs of particles.'''\n",
    "    \n",
    "    return np.sum((state[:, np.newaxis]*state),axis=2)[np.triu_indices(n_particles,1)]/(R**2)\n",
    "    \n",
    "def get_E(dists):\n",
    "    '''Takes an array of distances between pairs of particles\n",
    "    and returns the total (potential) energy of the config.'''\n",
    "    \n",
    "    return np.sum(b*((a/dists)**12 - 2*(a/dists)**6))\n",
    "#    return np.sum(-a*dists**2)\n",
    "\n",
    "def step_fwd(vec, sigma, R):\n",
    "    '''Push a single particle around uniformly.'''\n",
    "    \n",
    "    dvec = np.array([np.random.normal(0,sigma) for i in range(len(vec))])\n",
    "    vec  = vec + dvec\n",
    "    \n",
    "    vec_normed = R*vec/np.sqrt(vec.dot(vec))\n",
    "    \n",
    "    return vec_normed\n",
    "\n",
    "def fig_saveas(title):\n",
    "    '''Useful shortcut for saving plot figures.'''\n",
    "    \n",
    "    folder = './figures/'\n",
    "    file_prefix = str(title) + '_'\n",
    "    file_suffix = 'beta=%s_a=%s_b=%s_R=%s_n_particles=%s_n_iters=%s' %(beta, a, b, R, n_particles, n_iters)\n",
    "    filename = folder + file_prefix + file_suffix + '.png'\n",
    "    plt.savefig(filename)"
   ]
  }
 ],
 "metadata": {
  "anaconda-cloud": {},
  "kernelspec": {
   "display_name": "Python [conda root]",
   "language": "python",
   "name": "conda-root-py"
  },
  "language_info": {
   "codemirror_mode": {
    "name": "ipython",
    "version": 3
   },
   "file_extension": ".py",
   "mimetype": "text/x-python",
   "name": "python",
   "nbconvert_exporter": "python",
   "pygments_lexer": "ipython3",
   "version": "3.5.2"
  }
 },
 "nbformat": 4,
 "nbformat_minor": 1
}
